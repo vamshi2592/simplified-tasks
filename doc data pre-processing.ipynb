{
 "cells": [
  {
   "cell_type": "code",
   "execution_count": 19,
   "metadata": {
    "collapsed": true
   },
   "outputs": [],
   "source": [
    "import numpy as np"
   ]
  },
  {
   "cell_type": "code",
   "execution_count": 20,
   "metadata": {
    "collapsed": true
   },
   "outputs": [],
   "source": [
    "x = np.zeros((1, 5, 10))"
   ]
  },
  {
   "cell_type": "code",
   "execution_count": 21,
   "metadata": {},
   "outputs": [
    {
     "data": {
      "text/plain": [
       "array([[[ 0.,  0.,  0.,  0.,  0.,  0.,  0.,  0.,  0.,  0.],\n",
       "        [ 0.,  0.,  0.,  0.,  0.,  0.,  0.,  0.,  0.,  0.],\n",
       "        [ 0.,  0.,  0.,  0.,  0.,  0.,  0.,  0.,  0.,  0.],\n",
       "        [ 0.,  0.,  0.,  0.,  0.,  0.,  0.,  0.,  0.,  0.],\n",
       "        [ 0.,  0.,  0.,  0.,  0.,  0.,  0.,  0.,  0.,  0.]]])"
      ]
     },
     "execution_count": 21,
     "metadata": {},
     "output_type": "execute_result"
    }
   ],
   "source": [
    "x"
   ]
  },
  {
   "cell_type": "code",
   "execution_count": 22,
   "metadata": {},
   "outputs": [
    {
     "name": "stdout",
     "output_type": "stream",
     "text": [
      "(0, 'my')\n",
      "(1, 'name')\n",
      "(2, 'is')\n",
      "(3, 'john')\n",
      "\n",
      "0 my\n",
      "1 name\n",
      "2 is\n",
      "3 john\n"
     ]
    }
   ],
   "source": [
    "l1 = [\"my\",\"name\",\"is\",\"john\"] \n",
    "  \n",
    "for ele in enumerate(l1): \n",
    "    print ele \n",
    "print \n",
    "for count,ele in enumerate(l1): \n",
    "    print count,ele"
   ]
  },
  {
   "cell_type": "code",
   "execution_count": 23,
   "metadata": {
    "collapsed": true
   },
   "outputs": [],
   "source": [
    "for t, word in enumerate(l1):\n",
    "        x[0, t, 5] = 2"
   ]
  },
  {
   "cell_type": "code",
   "execution_count": 24,
   "metadata": {},
   "outputs": [
    {
     "data": {
      "text/plain": [
       "array([[[ 0.,  0.,  0.,  0.,  0.,  2.,  0.,  0.,  0.,  0.],\n",
       "        [ 0.,  0.,  0.,  0.,  0.,  2.,  0.,  0.,  0.,  0.],\n",
       "        [ 0.,  0.,  0.,  0.,  0.,  2.,  0.,  0.,  0.,  0.],\n",
       "        [ 0.,  0.,  0.,  0.,  0.,  2.,  0.,  0.,  0.,  0.],\n",
       "        [ 0.,  0.,  0.,  0.,  0.,  0.,  0.,  0.,  0.,  0.]]])"
      ]
     },
     "execution_count": 24,
     "metadata": {},
     "output_type": "execute_result"
    }
   ],
   "source": [
    "x"
   ]
  },
  {
   "cell_type": "code",
   "execution_count": 29,
   "metadata": {
    "collapsed": true
   },
   "outputs": [],
   "source": [
    "#C://Users/583175/.jupyter/TrainingData_pubmed.txt\n",
    "def load_doc(filename):\n",
    "    file = open(filename, 'r')\n",
    "    text = file.read()\n",
    "    file.close()\n",
    "    return text"
   ]
  },
  {
   "cell_type": "code",
   "execution_count": 30,
   "metadata": {
    "collapsed": true
   },
   "outputs": [],
   "source": [
    "text = load_doc('C://Users/583175/.jupyter/TrainingData_pubmed.txt')"
   ]
  },
  {
   "cell_type": "code",
   "execution_count": 32,
   "metadata": {},
   "outputs": [
    {
     "name": "stdout",
     "output_type": "stream",
     "text": [
      "Suicide is a major public health problem not only in the United States but many western nations. In the United States, it is the 10th leading cause of death, accounting for nearly 44,000 deaths each year, more than double the deaths due to AIDS. Suicide is also the seventh leading cause of years of potential loss of life, surpassing liver disease, diabetes, and HIV. Each year, nearly half a million individuals present to the emergency rooms in the United States following attempted suicide. Data indicate that nearly 1 out of every 7 young adults describe as having some type of suicidal ideation at some point in their lives and at least 5% have made a suicidal attempt. Suicide has repercussions way beyond the affected individual. It costs the US healthcare system over $70 billion, and untold billions of dollars are lost by the families who are affected, in terms of loss of earning.[1][2][3] Suicides are at an all-time high and affect both genders. Men are nearly 3.5 times more likely tha\n"
     ]
    }
   ],
   "source": [
    "print(text[:1000])"
   ]
  },
  {
   "cell_type": "code",
   "execution_count": 33,
   "metadata": {
    "collapsed": true
   },
   "outputs": [],
   "source": [
    "import string"
   ]
  },
  {
   "cell_type": "code",
   "execution_count": 56,
   "metadata": {
    "collapsed": true
   },
   "outputs": [],
   "source": [
    "def clean_text(data):\n",
    "    data = data.replace(', ', ' ')\n",
    "    data = data.replace('. ', ' . ')\n",
    "    tokens = data.split()\n",
    "    tokens = [word.lower() for word in tokens]\n",
    "    return tokens"
   ]
  },
  {
   "cell_type": "code",
   "execution_count": 57,
   "metadata": {},
   "outputs": [
    {
     "name": "stdout",
     "output_type": "stream",
     "text": [
      "['suicide', 'is', 'a', 'major', 'public', 'health', 'problem', 'not', 'only', 'in', 'the', 'united', 'states', 'but', 'many', 'western', 'nations', '.', 'in', 'the', 'united', 'states', 'it', 'is', 'the', '10th', 'leading', 'cause', 'of', 'death', 'accounting', 'for', 'nearly', '44,000', 'deaths', 'each', 'year', 'more', 'than', 'double', 'the', 'deaths', 'due', 'to', 'aids', '.', 'suicide', 'is', 'also', 'the', 'seventh', 'leading', 'cause', 'of', 'years', 'of', 'potential', 'loss', 'of', 'life', 'surpassing', 'liver', 'disease', 'diabetes', 'and', 'hiv', '.', 'each', 'year', 'nearly', 'half', 'a', 'million', 'individuals', 'present', 'to', 'the', 'emergency', 'rooms', 'in', 'the', 'united', 'states', 'following', 'attempted', 'suicide', '.', 'data', 'indicate', 'that', 'nearly', '1', 'out', 'of', 'every', '7', 'young', 'adults', 'describe', 'as', 'having', 'some', 'type', 'of', 'suicidal', 'ideation', 'at', 'some', 'point', 'in', 'their', 'lives', 'and', 'at', 'least', '5%', 'have', 'made', 'a', 'suicidal', 'attempt', '.', 'suicide', 'has', 'repercussions', 'way', 'beyond', 'the', 'affected', 'individual', '.', 'it', 'costs', 'the', 'us', 'healthcare', 'system', 'over', '$70', 'billion', 'and', 'untold', 'billions', 'of', 'dollars', 'are', 'lost', 'by', 'the', 'families', 'who', 'are', 'affected', 'in', 'terms', 'of', 'loss', 'of', 'earning.[1][2][3]', 'suicides', 'are', 'at', 'an', 'all-time', 'high', 'and', 'affect', 'both', 'genders', '.', 'men', 'are', 'nearly', '3.5', 'times', 'more', 'likely', 'than', 'women', 'to', 'commit', 'suicide', 'and', 'on', 'average', '123', 'people', 'kill', 'themselves', 'every', 'day', '.', 'the', 'world', 'health', 'organization', '(who)', 'has', 'predicted', 'that', 'in', 'the', 'next', '2', 'years', 'depression', 'will', 'the', 'leading', 'cause', 'of', 'disability', 'globally', '.', 'depression', 'is', 'not', 'only', 'a', 'north', 'american', 'phenomenon', 'but', 'is', 'now', 'being', 'diagnosed', 'in', 'almost', 'every', 'nation', '.', 'the', 'annual', 'prevalence', 'of', 'major', 'depressive', 'disorders', 'in', 'north', 'america', 'is', '4.5%', 'but', 'this', 'is', 'a', 'gross', 'underestimate', 'because', 'many', 'individuals', 'do', 'not', 'seek', 'medical', 'help', '.', 'depression', 'is', 'a', 'serious', 'medical', 'disorder', 'and', 'associated', 'with', 'a', 'high', 'risk', 'of', 'suicide', '.', 'data', 'reveal', 'that', 'more', 'than', '90%', 'of', 'individuals', 'with', 'a', 'major', 'depressive', 'disorder', 'do', 'see', 'a', 'healthcare', 'provider', 'within', 'the', 'first', '12', 'months', 'of', 'the', 'episode', 'and', 'at', 'least', '45%', 'of', 'suicide', 'victims', 'have', 'had', 'some', 'contact', 'with', 'a', 'primary', 'health', 'care', 'provider', 'within', 'the', '4', 'weeks', 'of', 'suicide', '.', 'this', 'indicates', 'that', 'perhaps', 'if', 'there', 'healthcare', 'providers', 'are', 'more', 'vigilant', 'and', 'alert', 'suicide', 'could', 'be', 'prevented', 'in', 'these', 'individuals.[4]', 'these', 'grim', 'statistics', 'have', 'led', 'to', 'a', 'national', 'strategy', 'for', 'suicide', 'prevention', 'in', 'the', 'united', 'states', '.', 'considering', 'that', 'many', 'individuals', 'who', 'commit', 'suicide', 'have', 'a', 'mental', 'health', 'disorder', 'and', 'have', 'visited', 'their', 'primary', 'caregiver', 'the', 'focus', 'now', 'is', 'on', 'health', 'care', 'providers', 'to', 'become', 'aware', 'of', 'the', 'factors', 'that', 'increase', 'the', 'risk', 'of', 'suicide', 'and', 'to', 'refer', 'these', 'individuals', 'to', 'mental', 'health', 'professionals', 'for', 'some', 'type', 'of', 'intervention', '.', 'the', 'current', 'uspstf', 'recommendations', 'are', 'that', 'primary', \"caregiver's\", 'screen', 'adolescents', 'and', 'adults', 'for', 'depression', 'only', 'when', 'there', 'are', 'appropriate', 'systems', 'in', 'place', 'to', 'ensure', 'adequate', 'diagnosis', 'treatment', 'and', 'follow-up.[3][5][3]', 'etiology', 'many', 'factors', 'have', 'been', 'identified', 'in', 'individuals', 'who', 'commit', 'suicides', 'or', 'have', 'attempted', 'suicide.[6]', 'these', 'factors', 'include', 'the', 'following:', 'advanced', 'age', '.', 'availability', 'of', 'a', 'firearm', '.', 'chronic', 'illness', '.', 'a', 'family', 'history', 'of', 'suicides', '.', 'financial', 'difficulties', '.', 'negative', 'life', 'experiences', '.', 'loss', 'of', 'job', '.', 'marital', 'status', 'divorced', '.', 'medications', '.', 'mental', 'illness:', 'depression', 'anxiety', 'post', 'traumatic', 'stress', 'disorder', '(ptsd)', '.', 'pain', 'that', 'is', 'continuous', '.', 'a', 'physical', 'illness', 'that', 'has', 'led', 'to', 'disability', '.', 'race:', 'caucasian', '.', 'gender:', 'male', '.', 'social', 'media', '.', 'stress', '.', 'a', 'sense', 'of', 'no', 'purpose', 'in', 'life', '.', 'other', 'risk', 'factors', 'for', 'suicide', 'over', 'the', 'years', 'several', 'other', 'risk', 'factors', 'even', 'identified', 'with', 'an', 'increase', 'the', 'risk', 'of', 'suicide', 'and', 'they', 'include:', 'major', 'childhood', 'adverse', 'events', 'for', 'example', 'sexual', 'abuse', '.', 'discriminated', 'for', 'being', 'gay', 'lesbian', 'transgender', 'or', 'bisexual', '.', 'having', 'access', 'to', 'lethal', 'means', '.', 'a', 'long', 'history', 'of', 'being', 'bullied', '.', 'chronic', 'sleep', 'problems', '.', 'in', 'males', 'and', 'older', 'individuals:', 'loss', 'of', 'job', 'or', 'unemployment', '.', 'low', 'income', '.', 'neurosis', '.', 'social', 'isolation', '.', 'spousal', 'loss', 'bereavement', '.', 'affective', 'disease', '.', 'functional', 'impairment', '.', 'physical', 'illness', '.', 'military', 'personnel:', 'traumatic', 'brain', 'injury', '.', 'ptsd', '.', 'other', 'mental', 'health', 'issues', '.', 'the', 'most', 'important', 'thing', 'to', 'understand', 'is', 'that', 'having', 'just', 'one', 'risk', 'factor', 'has', 'very', 'limited', 'predictive', 'value', '.', 'millions', 'of', 'americans', 'have', 'one', 'of', 'these', 'factors', 'at', 'any', 'one', 'point', 'in', 'time', 'but', 'very', 'few', 'attempt', 'suicide', 'and', 'even', 'fewer', 'die', 'as', 'a', 'result', '.', 'one', 'has', 'to', 'look', 'at', 'the', 'entire', 'clinical', 'picture', 'to', 'increase', 'the', 'predictive', 'values', 'of', 'these', 'risk', 'factors.', 'coq10', 'is', 'not', 'fda-approved', 'to', 'treat', 'any', 'medical', 'condition', 'although', 'it', 'is', 'widely', 'available', 'over-the-counter', 'as', 'a', 'dietary', 'supplement', 'and', 'recommended', 'by', 'primary', 'care', 'physicians', 'and', 'specialists', 'alike', '.', 'diseases', 'such', 'as', 'neurodegenerative', 'diseases', 'fibromyalgia', 'diabetes', 'cancer', 'mitochondrial', 'diseases', 'muscular', 'diseases', 'and', 'heart', 'failure', 'are', 'associated', 'with', 'decreased', 'circulating', 'levels', 'of', 'coq10.[1][2][3][4]', 'many', 'studies', 'have', 'been', 'performed', 'on', 'the', 'premise', 'that', 'increasing', 'systemic', 'coq10', 'levels', 'in', 'such', 'conditions', 'would', 'allow', 'for', 'the', 'proper', 'functioning', 'of', 'processes', 'that', 'require', 'coq10.[3][2][1]', 'background:', 'there', 'is', 'still', 'limited', 'data', 'on', 'the', 'very', 'long', 'term', 'clinical', 'outcomes', 'after', 'absorb', 'brs', 'in', 'daily', 'practice', '.', 'we', 'sought', 'to', 'evaluate', 'the', '3', 'year-performance', 'of', 'the', 'absorb', 'bioresorbable', 'vascular', 'scaffolds', 'for', 'the', 'treatment', 'of', 'low/moderate', 'complexity', 'patients', 'enrolled', 'in', 'the', 'absorb', 'extend', 'trial.', 'methods:', 'absorb', 'extend', 'is', 'a', 'prospective', 'single-arm', 'open-label', 'clinical', 'study', 'in', 'which', '812', 'patients', 'were', 'enrolled', 'at', '56', 'sites', '.', 'this', 'study', 'allowed', 'the', 'treatment', 'of', 'lesions', '=28?mm', 'in', 'length', 'and', 'reference', 'vessel', 'diameter', 'of', '2.0-3.8?mm', '(as', 'assessed', 'by', 'on-line', 'qca)', '.', 'to', 'determine', 'the', 'independent', 'predictors', 'of', 'mace', 'a', 'multivariable', 'logistic', 'regression', 'model', 'was', 'built', 'using', 'a', 'stepwise', '(forward/backward)', 'procedure.', 'results:', 'average', 'population', 'age', 'was', '61', 'years', 'and', '26.5%', 'had', 'diabetes', '.', 'most', 'patients', 'had', 'single', 'target', 'lesion', '(92.4%)', '.', 'adequate', 'scaffold', 'deployment', '(psp)', 'was', 'achieved', 'in', '14.2%', 'of', 'the', 'cases', '.', 'at', 'three', 'years', 'the', 'composite', 'endpoints', 'of', 'mace', 'and', 'ischemia-driven', 'target', 'vessel', 'failure', 'were', '9.2%', 'and', '10.6%', 'respectively', '.', 'the', 'cumulative', 'rate', 'of', 'arc', 'definite/probable', 'thrombosis', 'was', '2.2%', 'with', '1.2%', 'of', 'the', 'cases', 'occurring', 'after', 'the', '1st', 'year', '.', 'independent', 'predictors', 'of', 'mace', 'were', 'hypertension', 'and', 'the', 'need', 'for', '\"bail', 'out\"', 'stent.', 'conclusion:', 'at', 'three-year', 'follow-up', 'the', 'use', 'of', 'absorb', 'in', 'low/moderate', 'complex', 'pci', 'was', 'associated', 'with', 'low', 'and', 'acceptable', 'rates', 'of', 'major', 'adverse']"
     ]
    },
    {
     "name": "stdout",
     "output_type": "stream",
     "text": [
      "\n"
     ]
    }
   ],
   "source": [
    "cleanedText = clean_text(text)\n",
    "print cleanedText[:1000]"
   ]
  },
  {
   "cell_type": "code",
   "execution_count": 62,
   "metadata": {},
   "outputs": [
    {
     "name": "stdout",
     "output_type": "stream",
     "text": [
      "total words: 7804\n",
      "total unique words: 2256\n"
     ]
    }
   ],
   "source": [
    "print('total words: %d' % len(cleanedText))\n",
    "print('total unique words: %d' % len(set(cleanedText)))"
   ]
  },
  {
   "cell_type": "code",
   "execution_count": 67,
   "metadata": {},
   "outputs": [
    {
     "name": "stdout",
     "output_type": "stream",
     "text": [
      "7799\n"
     ]
    }
   ],
   "source": [
    "sequences = list()\n",
    "for i in range(0, len(cleanedText)-5):\n",
    "    seq = cleanedText[i:i+6]\n",
    "    line = ' '.join(seq)\n",
    "    sequences.append(line)\n",
    "print(len(sequences))"
   ]
  },
  {
   "cell_type": "code",
   "execution_count": 70,
   "metadata": {
    "collapsed": true
   },
   "outputs": [],
   "source": [
    "import sklearn"
   ]
  },
  {
   "cell_type": "code",
   "execution_count": null,
   "metadata": {
    "collapsed": true
   },
   "outputs": [],
   "source": [
    "from sklearn import CountVectorizer"
   ]
  }
 ],
 "metadata": {
  "kernelspec": {
   "display_name": "Python 3",
   "language": "python",
   "name": "python3"
  },
  "language_info": {
   "codemirror_mode": {
    "name": "ipython",
    "version": 3
   },
   "file_extension": ".py",
   "mimetype": "text/x-python",
   "name": "python",
   "nbconvert_exporter": "python",
   "pygments_lexer": "ipython3",
   "version": "3.6.2"
  }
 },
 "nbformat": 4,
 "nbformat_minor": 2
}
